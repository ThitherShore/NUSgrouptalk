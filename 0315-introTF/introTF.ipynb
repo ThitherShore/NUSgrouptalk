{
 "cells": [
  {
   "cell_type": "markdown",
   "metadata": {},
   "source": [
    "# Intro to TensorFlow\n",
    "\n",
    "[Understanding TensorFlow Language](#Understanding-TensorFlow-Language)\n",
    "\n",
    " - [constant](#constant)\n",
    " - [placeholder](#placeholder)\n",
    " - [Recap](#Recap)\n",
    "\n",
    "[Tensorboard: Visualize your Graph](#Tensorboard:-Visualize-your-Graph)\n",
    "\n",
    "- [Writer and Launch Tensorboard](#Writer-and-Launch-Tensorboard)\n",
    "\n",
    "- [Name your Tensors & Operations](#Name-your-Tensors-&-Operations)\n",
    "\n",
    "[Least Square Regression: a start-up example](#Least-Square-Regression:-a-start-up-example)\n",
    "\n",
    "- [Clean Version](#Clean-Version)\n",
    "- [Detailed Version](#Detailed-Version)\n",
    "\n",
    "[Save and Restore Models in TensorFlow](#Save-and-Restore-Models-in-TensorFlow)\n",
    "\n",
    "\n",
    "\n",
    "*Notes:* \n",
    "\n",
    "*1. There are many fruitful GitHub repositories for TensorFlow examples, such as [aymericdamien](https://github.com/aymericdamien/TensorFlow-Examples/tree/master/examples), [pkmital](https://github.com/pkmital/tensorflow_tutorials).*\n",
    "\n",
    "*2. Good intro course of TensorFlow in Deep Learning: [Stanford CS20](http://web.stanford.edu/class/cs20si/syllabus.html)*.\n",
    "\n",
    "## Understanding TensorFlow Language\n",
    " \n",
    "### constant\n",
    "This [blog](http://blog.csdn.net/lenbow/article/details/52152766) introduces some functions in TensorFlow."
   ]
  },
  {
   "cell_type": "code",
   "execution_count": 19,
   "metadata": {},
   "outputs": [
    {
     "name": "stdout",
     "output_type": "stream",
     "text": [
      "Tensor(\"Const_2:0\", shape=(), dtype=int32)\n",
      "Tensor(\"Add:0\", shape=(), dtype=int32)\n"
     ]
    }
   ],
   "source": [
    "import numpy as np\n",
    "import tensorflow as tf\n",
    "\n",
    "a = tf.constant(2)\n",
    "b = tf.constant(3)\n",
    "x = tf.add(a, b)\n",
    "print(a) # a tensor hasn't been evaluated (constant)\n",
    "print(x) # a tensor hasn't been evaluated (operation)"
   ]
  },
  {
   "cell_type": "code",
   "execution_count": 20,
   "metadata": {},
   "outputs": [
    {
     "name": "stdout",
     "output_type": "stream",
     "text": [
      "5\n"
     ]
    }
   ],
   "source": [
    "# You must start a Session before you can run (in order to evaluate) the operation x\n",
    "with tf.Session() as sess:\n",
    "    print(sess.run(x))"
   ]
  },
  {
   "cell_type": "code",
   "execution_count": 21,
   "metadata": {},
   "outputs": [
    {
     "name": "stdout",
     "output_type": "stream",
     "text": [
      "[[ 12.]]\n",
      "Tensor(\"Shape:0\", shape=(2,), dtype=int32)\n"
     ]
    }
   ],
   "source": [
    "# just another similar example on matrixs\n",
    "matrix1 = tf.constant([[3., 3.]])\n",
    "matrix2 = tf.constant([[2.],[2.]])\n",
    "product = tf.matmul(matrix1,matrix2)\n",
    "with tf.Session() as sess:\n",
    "    print(sess.run(product))\n",
    "    print(tf.shape(matrix2))"
   ]
  },
  {
   "cell_type": "markdown",
   "metadata": {},
   "source": [
    "### placeholder"
   ]
  },
  {
   "cell_type": "code",
   "execution_count": 22,
   "metadata": {},
   "outputs": [
    {
     "name": "stdout",
     "output_type": "stream",
     "text": [
      "Addition: 5\n",
      "Multiplication 1st: 6\n",
      "Multiplication 2nd: 20\n"
     ]
    }
   ],
   "source": [
    "c = tf.placeholder(tf.int16)\n",
    "d = tf.placeholder(tf.int16)\n",
    "add = tf.add(c, d)\n",
    "mul = tf.multiply(c, d)\n",
    "with tf.Session() as sess:\n",
    "    # Every time when you evaluate any operation involving variables\n",
    "    # you **must** feed variable values to \"feed_dict\"\n",
    "    print(\"Addition: %i\" % sess.run(add, feed_dict={c: 2, d: 3}))\n",
    "    print(\"Multiplication 1st: %i\" % sess.run(mul, feed_dict={c: 2, d: 3}))\n",
    "    print(\"Multiplication 2nd: %i\" % sess.run(mul, feed_dict={c: 4, d: 5}))"
   ]
  },
  {
   "cell_type": "markdown",
   "metadata": {},
   "source": [
    "### Recap\n",
    "\n",
    "- 将计算流程表示成 Graph；\n",
    "- 通过 Session 来执行图计算；\n",
    "- 将数据表示为 Tensors (constant & placeholder)；\n",
    "- 使用 Variables 来保持状态信息 (比如模型权重)；\n",
    "- 使用 feed (feed_dict) 为 operation 填充数据；\n",
    "- 使用 fetches (sess.run()) 抓取 operation 结果；\n",
    "\n",
    "**graph <=  Session <= operation <= tensor**\n",
    " \n",
    " 让 tensor (张量) 及一系列 operation (操作) 通过 Session (会话) 这个载体来运行生成 graph (图) 以完成整个运算.\n",
    " \n",
    "*Notes:*\n",
    "\n",
    "*[1] You can find official explanations to graph, session, operation, tensor in [TensorFlow documentations](https://www.tensorflow.org/programmers_guide/low_level_intro). (but not recommanded)*\n",
    "\n",
    "*[2] [Good reference here](http://www.jeyzhang.com/tensorflow-learning-notes.html)*\n"
   ]
  },
  {
   "cell_type": "markdown",
   "metadata": {},
   "source": [
    "## Tensorboard: Visualize your Graph\n",
    "\n",
    "### Writer and Launch Tensorboard"
   ]
  },
  {
   "cell_type": "code",
   "execution_count": 23,
   "metadata": {},
   "outputs": [
    {
     "name": "stdout",
     "output_type": "stream",
     "text": [
      "5\n"
     ]
    }
   ],
   "source": [
    "# Clean previous graph to illustrate the simplest example\n",
    "tf.reset_default_graph()\n",
    "\n",
    "a = tf.constant(2)\n",
    "b = tf.constant(3)\n",
    "x = tf.add(a, b)\n",
    "\n",
    "# Create the summary writer **after** graph definition and **before** running your session\n",
    "writer = tf.summary.FileWriter('./graphs', tf.get_default_graph())\n",
    "with tf.Session() as sess:\n",
    "    print(sess.run(x))\n",
    "\n",
    "writer.close() #close the writer when you’re done using it\n",
    "\n",
    "# Now to visualize your graph in Tensorbiard, please go to terminal and run:\n",
    "# $ python3 [yourprogram].py\n",
    "# $ tensorboard --logdir=\"./graphs\" --port 6006\n",
    "# Then open your browser and go to: http://localhost:6006/"
   ]
  },
  {
   "cell_type": "markdown",
   "metadata": {},
   "source": [
    "### Name your Tensors & Operations"
   ]
  },
  {
   "cell_type": "code",
   "execution_count": 24,
   "metadata": {},
   "outputs": [
    {
     "name": "stdout",
     "output_type": "stream",
     "text": [
      "5\n"
     ]
    }
   ],
   "source": [
    "tf.reset_default_graph()\n",
    "\n",
    "a = tf.constant(2, name='a')\n",
    "b = tf.constant(3, name='b')\n",
    "x = tf.add(a, b, name='Addition')\n",
    "\n",
    "writer = tf.summary.FileWriter('./graphs', tf.get_default_graph())\n",
    "with tf.Session() as sess:\n",
    "    print(sess.run(x))\n",
    "\n",
    "writer.close()\n",
    "\n",
    "# Now please refresh: http://localhost:6006/#graphs"
   ]
  },
  {
   "cell_type": "markdown",
   "metadata": {},
   "source": [
    "*Notes:*\n",
    "\n",
    "*[1] Some times when you need to work with multiple graphs, refer to this [issue](https://stackoverflow.com/questions/35955144/working-with-multiple-graphs-in-tensorflow).*\n",
    "\n",
    "*[2] When you deal with complex graphs consisting of many tensors, refer to name scope issue such as [this](http://blog.csdn.net/Jerr__y/article/details/70809528).*\n",
    "\n",
    "*[3] [A good tutorial blog](https://thecodacus.com/tensorboard-tutorial-visualize-networks-graphically/#.Wql-72ePJRE) on Tensorboard and name scope.*"
   ]
  },
  {
   "cell_type": "markdown",
   "metadata": {},
   "source": [
    "## Least Square Regression: a start-up example"
   ]
  },
  {
   "cell_type": "code",
   "execution_count": 25,
   "metadata": {
    "collapsed": true
   },
   "outputs": [],
   "source": [
    "#[optional] Customizing your plots: https://matplotlib.org/users/customizing.html\n",
    "#__________________________________________________\n",
    "import matplotlib\n",
    "font = {'weight': 'bold',\n",
    "        'size': 16}\n",
    "matplotlib.rc('font', **font)\n",
    "\n",
    "#[for .ipynb only]\n",
    "#__________________________________________________\n",
    "%matplotlib inline           \n",
    "from IPython import display \n",
    "\n",
    "import time\n",
    "import numpy as np\n",
    "import tensorflow as tf\n",
    "import matplotlib.pyplot as plt"
   ]
  },
  {
   "cell_type": "markdown",
   "metadata": {},
   "source": [
    "### Clean Version"
   ]
  },
  {
   "cell_type": "code",
   "execution_count": 26,
   "metadata": {},
   "outputs": [
    {
     "name": "stdout",
     "output_type": "stream",
     "text": [
      "0  :  33.6232\n",
      "1  :  26.8116\n",
      "2  :  21.3843\n",
      "3  :  17.0602\n",
      "4  :  13.6148\n",
      "5  :  10.8696\n",
      "6  :  8.68236\n",
      "7  :  6.93956\n",
      "8  :  5.5509\n",
      "9  :  4.4444\n",
      "10  :  3.5627\n",
      "11  :  2.86012\n",
      "12  :  2.30025\n",
      "13  :  1.85408\n",
      "14  :  1.49851\n",
      "15  :  1.21511\n",
      "16  :  0.989234\n",
      "17  :  0.809176\n",
      "18  :  0.665629\n",
      "19  :  0.551174\n",
      "20  :  0.459899\n",
      "21  :  0.387093\n",
      "22  :  0.329006\n",
      "23  :  0.282645\n",
      "24  :  0.24563\n",
      "25  :  0.216063\n",
      "26  :  0.19243\n",
      "27  :  0.173527\n",
      "28  :  0.158395\n",
      "29  :  0.146268\n",
      "30  :  0.136536\n",
      "31  :  0.128715\n",
      "32  :  0.122417\n",
      "33  :  0.117334\n",
      "34  :  0.11322\n",
      "35  :  0.10988\n",
      "36  :  0.107158\n",
      "37  :  0.104928\n",
      "38  :  0.103093\n",
      "39  :  0.101573\n",
      "40  :  0.100305\n",
      "41  :  0.0992399\n",
      "42  :  0.0983365\n",
      "43  :  0.0975634\n",
      "44  :  0.0968952\n",
      "45  :  0.0963116\n",
      "46  :  0.0957963\n",
      "47  :  0.0953365\n",
      "48  :  0.094922\n",
      "49  :  0.0945442\n",
      "50  :  0.0941971\n",
      "51  :  0.093875\n",
      "52  :  0.0935739\n",
      "53  :  0.0932901\n",
      "54  :  0.0930215\n",
      "55  :  0.0927653\n",
      "56  :  0.0925202\n",
      "57  :  0.0922845\n",
      "58  :  0.0920574\n",
      "59  :  0.0918376\n",
      "60  :  0.0916245\n",
      "61  :  0.0914176\n",
      "62  :  0.0912163\n",
      "63  :  0.0910201\n",
      "64  :  0.0908288\n",
      "65  :  0.090642\n",
      "66  :  0.0904595\n",
      "67  :  0.0902812\n",
      "68  :  0.0901067\n",
      "69  :  0.0899361\n",
      "70  :  0.089769\n",
      "71  :  0.0896055\n",
      "72  :  0.0894454\n",
      "73  :  0.0892885\n",
      "74  :  0.0891349\n",
      "75  :  0.0889844\n",
      "76  :  0.0888369\n",
      "77  :  0.0886924\n",
      "78  :  0.0885508\n",
      "79  :  0.0884121\n",
      "80  :  0.088276\n",
      "81  :  0.0881428\n",
      "82  :  0.0880122\n",
      "83  :  0.0878842\n",
      "84  :  0.0877588\n",
      "85  :  0.0876359\n",
      "86  :  0.0875153\n",
      "87  :  0.0873972\n",
      "88  :  0.0872815\n",
      "89  :  0.087168\n",
      "90  :  0.0870568\n",
      "91  :  0.0869478\n",
      "92  :  0.0868409\n",
      "93  :  0.0867362\n",
      "94  :  0.0866335\n",
      "95  :  0.086533\n",
      "96  :  0.0864343\n",
      "97  :  0.0863376\n",
      "98  :  0.0862429\n",
      "99  :  0.08615\n"
     ]
    }
   ],
   "source": [
    "# Data\n",
    "X = np.array([[2.1],[1.6],[-3.8],[0.5],[-4.1],[-1.3],[-2.7],[6.2]])\n",
    "Y = np.array([[-4.4],[-3.9],[7.5],[-0.9],[8.1],[2.7],[4.9],[-12.2]])\n",
    "\n",
    "# Define your Graph\n",
    "x = tf.placeholder(tf.float32, [None, 1])\n",
    "y = tf.placeholder(tf.float32, [None, 1])\n",
    "\n",
    "b = tf.Variable(tf.zeros([1, 1]))\n",
    "w = tf.Variable(tf.zeros([1, 1]))\n",
    "\n",
    "y_= w * x + b\n",
    "\n",
    "# Loss & Optimizer\n",
    "loss = tf.reduce_mean(tf.square(y_ - y))\n",
    "train_step = tf.train.GradientDescentOptimizer(0.005).minimize(loss)\n",
    "\n",
    "# Training (you have to start a tf.Session())\n",
    "with tf.Session() as sess:\n",
    "    sess.run(tf.global_variables_initializer()) #this is compulsory for all sessions\n",
    "\n",
    "    for step in range(20):\n",
    "        #evaluate \"loss\" & train the model\n",
    "        Loss, _ = sess.run([loss, train_step], feed_dict={x:X, y:Y}) \n",
    "        #sess.run(train_step, feed_dict={x:X, y:Y})\n",
    "        #Loss = sess.run(loss, feed_dict={x:X, y:Y})\n",
    "        print(step, \" : \", Loss)     \n",
    "        \n",
    "# You will see that the Loss keeps decreasing."
   ]
  },
  {
   "cell_type": "markdown",
   "metadata": {},
   "source": [
    "### Detailed Version"
   ]
  },
  {
   "cell_type": "code",
   "execution_count": 33,
   "metadata": {
    "scrolled": true
   },
   "outputs": [
    {
     "name": "stdout",
     "output_type": "stream",
     "text": [
      "stop\n"
     ]
    },
    {
     "data": {
      "image/png": "[encoded data removed]",
      "text/plain": [
       "<matplotlib.figure.Figure at 0x1eb3578fcf8>"
      ]
     },
     "metadata": {},
     "output_type": "display_data"
    },
    {
     "data": {
      "image/png": "[encoded data removed]",
      "text/plain": [
       "<matplotlib.figure.Figure at 0x1eb345c3e48>"
      ]
     },
     "metadata": {},
     "output_type": "display_data"
    },
    {
     "data": {
      "text/plain": [
       "'\\nsess = tf.Session()\\nsess.run(tf.global_variables_initializer())\\n    \\nfor step in range(10):\\n    sess.run(train_step, feed_dict={x:X, y:Y})\\n    #print(step, sess.run(w), sess.run(b)) #You may print loss of each iteration\\n    if step % 2 == 0:\\n        Y_= sess.run(y_, feed_dict={x:X})\\n\\n        plt.gca().cla() \\n        plt.scatter(X, Y, label=\"x\")\\n        plt.plot(X, Y_, \\'b\\', label=\"y\")\\n        display.display(plt.gcf()) \\n        display.clear_output(wait=True)\\n        time.sleep(0.2) \\n'"
      ]
     },
     "execution_count": 33,
     "metadata": {},
     "output_type": "execute_result"
    }
   ],
   "source": [
    "tf.reset_default_graph()\n",
    "\n",
    "# Data\n",
    "X = np.array([[2.1],[1.6],[-3.8],[0.5],[-4.1],[-1.3],[-2.7],[6.2]])\n",
    "Y = np.array([[-4.4],[-3.9],[7.5],[-0.9],[8.1],[2.7],[4.9],[-12.2]])\n",
    "\n",
    "# Define your Graph\n",
    "x = tf.placeholder(tf.float32, [None, 1])\n",
    "y = tf.placeholder(tf.float32, [None, 1])\n",
    "\n",
    "b = tf.Variable(tf.zeros([1]))   \n",
    "w = tf.Variable(tf.zeros([1, 1]))\n",
    "\n",
    "y_= w * x + b\n",
    "\n",
    "# Loss & Optimizer\n",
    "loss = tf.reduce_mean(tf.square(y_ - y))\n",
    "train_step = tf.train.GradientDescentOptimizer(0.0025).minimize(loss)\n",
    "\n",
    "# Make directories if necessary\n",
    "import os\n",
    "if not os.path.exists(\"./graphs/\"): os.mkdir(\"./graphs/\")\n",
    "if not os.path.exists(\"./save/\"): os.mkdir(\"./save/\")\n",
    "    \n",
    "# Create a writer\n",
    "writer = tf.summary.FileWriter('./graphs', tf.get_default_graph())\n",
    "# Create a saver\n",
    "saver = tf.train.Saver(max_to_keep=100, keep_checkpoint_every_n_hours=0.05)\n",
    "\n",
    "model_loss = []\n",
    "# Training (you have to start a tf.Session())\n",
    "with tf.Session() as sess:\n",
    "    sess.run(tf.global_variables_initializer())\n",
    "    \n",
    "    #check if there exists trained model (and restore)\n",
    "    ckpt = tf.train.get_checkpoint_state(\"./save/\")\n",
    "    if ckpt and ckpt.model_checkpoint_path:\n",
    "        saver = tf.train.import_meta_graph(ckpt.model_checkpoint_path + \".meta\")\n",
    "        saver.restore(sess, tf.train.latest_checkpoint(\"./save/\"))\n",
    "        model_loss = list(np.load(\"./save/model_loss.npy\"))\n",
    "        print(\"Restore the model and continue training.\")\n",
    "\n",
    "    \n",
    "    for step in range(30):\n",
    "        Loss, _ = sess.run([loss, train_step], feed_dict={x:X, y:Y})  #evaluate \"loss\" & training \n",
    "        model_loss.append(Loss)\n",
    "        print(step, '%2.3f'%sess.run(w)[0][0], sess.run(b))           #display model params <*1> <*2>\n",
    "        if step % 2 == 0:\n",
    "            #no need to feed y to Y this time, since you do not need it to calculate Y_\n",
    "            Y_ = sess.run(y_, feed_dict={x:X})\n",
    "            \n",
    "            plt.gca().cla()                                           #for .ipynb display only\n",
    "            plt.scatter(X, Y, label=\"x\")                              \n",
    "            plt.plot(X, Y_, 'b', label=\"y\")\n",
    "            display.display(plt.gcf())                                #for .ipynb display only\n",
    "            display.clear_output(wait=True)                           #for .ipynb display only\n",
    "            time.sleep(0.15)                                          #for .ipynb display only\n",
    "            \n",
    "            if abs(model_loss[-2]-model_loss[-1]) < 0.09:\n",
    "                print(\"stop\")\n",
    "                break\n",
    "    \n",
    "    #save the model before the tf.Session is closed\n",
    "    #since a graph is only active within a tf.Session\n",
    "    save_path = saver.save(sess, \"./save/LSregression\")\n",
    "    np.save(\"./save/model_loss\", model_loss)\n",
    "\n",
    "writer.close() #close your writer\n",
    "\n",
    "# Plotting Loss over iterations\n",
    "fig = plt.figure(figsize=(6, 4))\n",
    "plt.plot(model_loss)\n",
    "plt.title(\"Model Loss over iterations\")\n",
    "plt.xlabel(\"Iterations\")\n",
    "plt.ylabel(\"Loss\")\n",
    "plt.show()\n",
    "\n",
    "################################################################\n",
    "# Now please re-run this cell to restore and continue training #\n",
    "################################################################\n",
    "\n",
    "# An alternative way to work within tf.Session(): \"with tf.Session() as sess:\"\n",
    "'''\n",
    "sess = tf.Session()\n",
    "sess.run(tf.global_variables_initializer())\n",
    "    \n",
    "for step in range(10):\n",
    "    sess.run(train_step, feed_dict={x:X, y:Y})\n",
    "    #print(step, sess.run(w), sess.run(b)) #You may print loss of each iteration\n",
    "    if step % 2 == 0:\n",
    "        Y_= sess.run(y_, feed_dict={x:X})\n",
    "\n",
    "        plt.gca().cla() \n",
    "        plt.scatter(X, Y, label=\"x\")\n",
    "        plt.plot(X, Y_, 'b', label=\"y\")\n",
    "        display.display(plt.gcf()) \n",
    "        display.clear_output(wait=True)\n",
    "        time.sleep(0.2) \n",
    "'''\n",
    "\n",
    "# <*1>: You can also do: \n",
    "#           print(step, w.eval(session=sess), b.eval(session=sess))\n",
    "#       Ref: http://blog.csdn.net/zcf1784266476/article/details/70259676 \n",
    "# <*2>: Note that: \"sess.run(w)[0][0]\" happens when you are evaluating a scalar"
   ]
  },
  {
   "cell_type": "markdown",
   "metadata": {
    "collapsed": true
   },
   "source": [
    "## Save and Restore Models in TensorFlow\n",
    "See above examples for saver, also you can refer to [TensorFlow documentation](https://www.tensorflow.org/api_docs/python/tf/train/Saver)."
   ]
  }
 ],
 "metadata": {
  "kernelspec": {
   "display_name": "Python 3",
   "language": "python",
   "name": "python3"
  },
  "language_info": {
   "codemirror_mode": {
    "name": "ipython",
    "version": 3
   },
   "file_extension": ".py",
   "mimetype": "text/x-python",
   "name": "python",
   "nbconvert_exporter": "python",
   "pygments_lexer": "ipython3",
   "version": "3.6.1"
  }
 },
 "nbformat": 4,
 "nbformat_minor": 2
}
