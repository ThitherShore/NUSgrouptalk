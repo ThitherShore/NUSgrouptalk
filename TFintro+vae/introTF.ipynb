{
 "cells": [
  {
   "cell_type": "markdown",
   "metadata": {},
   "source": [
    "# TensorFlow Basics"
   ]
  },
  {
   "cell_type": "markdown",
   "metadata": {},
   "source": [
    "## Customizing your Plots"
   ]
  },
  {
   "cell_type": "code",
   "execution_count": 1,
   "metadata": {
    "collapsed": true
   },
   "outputs": [],
   "source": [
    "#[optional] Customizing your plots: https://matplotlib.org/users/customizing.html\n",
    "#__________________________________________________\n",
    "import matplotlib\n",
    "font = {'weight': 'bold',\n",
    "        'size': 16}\n",
    "matplotlib.rc('font', **font)\n",
    "\n",
    "#[for .ipynb only]\n",
    "#__________________________________________________\n",
    "%matplotlib inline           \n",
    "from IPython import display  "
   ]
  },
  {
   "cell_type": "markdown",
   "metadata": {},
   "source": [
    "## Least Square regression: a start-up example"
   ]
  },
  {
   "cell_type": "code",
   "execution_count": 2,
   "metadata": {
    "collapsed": true
   },
   "outputs": [],
   "source": [
    "#%% e.g. Least Square regression\n",
    "\n",
    "import time\n",
    "import numpy as np\n",
    "import tensorflow as tf\n",
    "import matplotlib.pyplot as plt"
   ]
  },
  {
   "cell_type": "code",
   "execution_count": 4,
   "metadata": {},
   "outputs": [
    {
     "name": "stdout",
     "output_type": "stream",
     "text": [
      "19 -1.775 [ 0.00030558  0.00030558  0.00030558  0.00030558  0.00030558]\n"
     ]
    },
    {
     "data": {
      "text/plain": [
       "'\\nsess = tf.Session()\\nsess.run(tf.global_variables_initializer())\\n    \\n    for step in range(20):\\n        sess.run(train_step, feed_dict={x:X, y:Y})\\n        #print(step, sess.run(w), sess.run(b)) #You may print loss of each iteration\\n        if step%5 == 0:\\n            Y_= sess.run(y_, feed_dict={x:X, y:Y})\\n\\n            plt.gca().cla() \\n            plt.scatter(X, Y, label=\"x\")\\n            plt.plot(X, Y_, \\'b\\', label=\"y\")\\n            display.display(plt.gcf()) \\n            display.clear_output(wait=True)\\n            time.sleep(0.2) \\n'"
      ]
     },
     "execution_count": 4,
     "metadata": {},
     "output_type": "execute_result"
    },
    {
     "data": {
      "image/png": "[encoded data removed]",
      "text/plain": [
       "<matplotlib.figure.Figure at 0x1f802892b70>"
      ]
     },
     "metadata": {},
     "output_type": "display_data"
    }
   ],
   "source": [
    "# Data\n",
    "X = np.array([[2.1],[1.6],[-3.8],[0.5],[-4.1],[-1.3],[-2.7],[6.2]])\n",
    "Y = np.array([[-4.4],[-3.9],[7.5],[-0.9],[8.1],[2.7],[4.9],[-12.2]])\n",
    "\n",
    "# Define your Graph\n",
    "x = tf.placeholder(tf.float32, [None, 1])\n",
    "y = tf.placeholder(tf.float32, [None, 1])\n",
    "\n",
    "b = tf.Variable(tf.zeros([5]))   \n",
    "w = tf.Variable(tf.zeros([1, 1]))\n",
    "\n",
    "y_= w * x + b\n",
    "\n",
    "# Loss & Optimizer\n",
    "loss = tf.reduce_mean(tf.square(y_ - y))\n",
    "train_step = tf.train.GradientDescentOptimizer(0.005).minimize(loss)\n",
    "\n",
    "# Training (you have to start a tf.Session())\n",
    "with tf.Session() as sess:\n",
    "    sess.run(tf.global_variables_initializer())\n",
    "\n",
    "    for step in range(20):\n",
    "        Loss, _ = sess.run([loss, train_step], feed_dict={x:X, y:Y})  #evaluate \"loss\" & training \n",
    "        print(step, '%2.3f'%sess.run(w)[0][0], sess.run(b))           #display model params <*1> <*2>\n",
    "        if step % 2 == 0:\n",
    "            Y_ = sess.run(y_, feed_dict={x:X, y:Y})\n",
    "            plt.gca().cla()                                           #for .ipynb display only\n",
    "            plt.scatter(X, Y, label=\"x\")\n",
    "            plt.plot(X, Y_, 'b', label=\"y\")\n",
    "            display.display(plt.gcf())                                #for .ipynb display only\n",
    "            display.clear_output(wait=True)                           #for .ipynb display only\n",
    "            time.sleep(0.2)                                           #for .ipynb display only\n",
    "\n",
    "# An alternative way to work within tf.Session(): \"with tf.Session() as sess:\"\n",
    "'''\n",
    "sess = tf.Session()\n",
    "sess.run(tf.global_variables_initializer())\n",
    "    \n",
    "    for step in range(20):\n",
    "        sess.run(train_step, feed_dict={x:X, y:Y})\n",
    "        #print(step, sess.run(w), sess.run(b)) #You may print loss of each iteration\n",
    "        if step % 2 == 0:\n",
    "            Y_= sess.run(y_, feed_dict={x:X, y:Y})\n",
    "\n",
    "            plt.gca().cla() \n",
    "            plt.scatter(X, Y, label=\"x\")\n",
    "            plt.plot(X, Y_, 'b', label=\"y\")\n",
    "            display.display(plt.gcf()) \n",
    "            display.clear_output(wait=True)\n",
    "            time.sleep(0.2) \n",
    "'''\n",
    "\n",
    "# <*1>: You can also do: \n",
    "#           print(step, w.eval(session=sess), b.eval(session=sess))\n",
    "#       Ref: http://blog.csdn.net/zcf1784266476/article/details/70259676 \n",
    "# <*2>: Note that: \"sess.run(w)[0][0]\" happens when you are evaluating a scalar"
   ]
  },
  {
   "cell_type": "code",
   "execution_count": null,
   "metadata": {
    "collapsed": true
   },
   "outputs": [],
   "source": []
  }
 ],
 "metadata": {
  "kernelspec": {
   "display_name": "Python 3",
   "language": "python",
   "name": "python3"
  },
  "language_info": {
   "codemirror_mode": {
    "name": "ipython",
    "version": 3
   },
   "file_extension": ".py",
   "mimetype": "text/x-python",
   "name": "python",
   "nbconvert_exporter": "python",
   "pygments_lexer": "ipython3",
   "version": "3.6.1"
  }
 },
 "nbformat": 4,
 "nbformat_minor": 2
}
