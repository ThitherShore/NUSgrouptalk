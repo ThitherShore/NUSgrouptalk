{
 "cells": [
  {
   "cell_type": "markdown",
   "metadata": {},
   "source": [
    "# Variational Auto-Encoder in Keras\n",
    "\n",
    "[VAE Recap: Variational Lower Bound](#VAE-Recap:-Variational-Lower-Bound)\n",
    "\n",
    "[VAE Recap: Structure](#VAE-Recap:-Structure)\n",
    "\n",
    "[VAE in TensorFlow](#VAE-in-TensorFlow)\n",
    "\n",
    "[VAR in Keras](#VAE-in-Keras)\n",
    "\n",
    "- [Load MNIST Data](#Load-MNIST-Data)\n",
    "\n",
    "- [Build VAE Structure](#Build-VAE-Structure)\n",
    "\n",
    "- [Define or Restore Models](#Define-or-Restore-Models)\n",
    "\n",
    "- [Visualization: Latent Space](#Visualization:-Latent-Space)\n",
    "\n",
    "- [Visualization: 2D manifold of the digits](#Visualization:-2D-manifold-of-the-digits)\n",
    "\n",
    "- [Visualization: Data Imputation](#Visualization:-Data-Imputation)\n",
    "\n",
    "[Reparameterization Trick](#Reparameterization-Trick)"
   ]
  },
  {
   "cell_type": "markdown",
   "metadata": {},
   "source": [
    "## VAE Recap: Variational Lower Bound\n",
    "\n",
    "### Derive ELBO\n",
    "\n",
    "<figure>\n",
    "  <img src=\"fig/ELBO.png\" alt=\"\" width=\"600\">\n",
    "</figure>\n",
    "\n",
    "<!-- \\begin{align*}\n",
    "    \\log p_{\\mathbf{\\theta}}(X)\n",
    "    &=\\log\\int_{Z} p_{\\theta}(X,Z)\\\\\n",
    "    &=\\log\\int_{Z} \\frac{{q_{\\phi}(Z)}}{{q_{\\phi}(Z)}}{p_{\\theta}(X,Z)}\n",
    "     =\\log\\int_{Z} {q_{\\phi}(Z)}\\frac{{p_{\\theta}(X,Z)}}{{q_{\\phi}(Z)}}\\\\\n",
    "    &={\\log\\mathbb{E}_{q_{\\phi}(Z)}\\frac{p_{\\theta}(X,Z)}{q_{\\phi}(Z)}} \n",
    "    {\\geq\\mathbb{E}_{q_{\\phi}(Z)}\\log\\frac{p_{\\theta}(X,Z)}{q_{\\phi}(Z)}}\\\\\n",
    "    &\\overset{\\Delta}{=}\\mathcal{L}(\\theta,q)\n",
    "\\end{align*} -->\n",
    "\n",
    "$\\mathcal{L}(\\theta,q)$ is referred as Variational Lower Bound, {\\it a.k.a.} ELBO.\n",
    "\n",
    "### Calculate GAP\n",
    "\n",
    "<figure>\n",
    "  <img src=\"fig/gap.png\" alt=\"\" width=\"600\">\n",
    "</figure>\n",
    "\n",
    "<!-- \\begin{align*}\n",
    "  &\\log p_{\\theta}(X)-\\mathcal{L}(\\theta,q)\\\\\n",
    "  =&\\log p_{\\theta}(X)\n",
    "  -\\mathbb{E}_{q_{\\phi}(Z)}\\log\\frac{p_{\\theta}(X,Z)}{q_{\\phi}(Z)}\\\\\n",
    "  =&\\mathbb{E}_{q_{\\phi}(Z)}\\left[\n",
    "  \\log p_{\\theta}(X)-\\log\\frac{p_{\\theta}(X,Z)}{q_{\\phi}(Z)}\\right]\\\\\n",
    "  =&\\mathbb{E}_{q_{\\phi}(Z)}\\left\n",
    "  [\\log\\frac{p_{\\theta}(X)}{p_{\\theta}(X,Z)}\\cdot q_{\\phi}(Z)\\right]\\\\\n",
    "  =&\\mathbb{E}_{q_{\\phi}(Z)}\\left\n",
    "  [\\log\\frac{q_{\\phi}(Z)}{p_{\\theta}(Z\\mid X)}\\right]\\\\\n",
    "  =&{\\mathcal{KL}(q_{\\phi}(Z)\\parallel p_{\\theta}(Z\\mid X))}\n",
    "\\end{align*} -->\n",
    "\n",
    "### Understand GAP\n",
    "\n",
    "<figure>\n",
    "  <img src=\"fig/gapfig.png\" alt=\"\" width=\"400\">\n",
    "</figure>\n",
    "\n",
    "### Calculate ELBO\n",
    "\n",
    "<figure>\n",
    "  <img src=\"fig/revisitELBO.png\" alt=\"\" width=\"600\">\n",
    "</figure> \n",
    "\n",
    "#### Our GOAL is to MAXIMIZE $\\mathcal{L}(\\theta, q)$ (variational lower bound). i.e.  MINIMIZE $-\\mathcal{L}(\\theta, q)$\n",
    "Let's calculate each of the two terms.\n",
    "\n",
    "### Regularization (KL divergence)\n",
    "*Ref: [the derivation of KL divergence of two Guassians](https://zhuanlan.zhihu.com/p/22464760)*\n",
    "<figure>\n",
    "  <img src=\"fig/klp1p2.svg\" alt=\"\" width=\"550\">\n",
    "</figure>\n",
    "\n",
    "Common assumptions\n",
    "- use $\\mathcal{N}(0,1)$ as prior for $p(Z)$\n",
    "- $q(Z\\mid X)$ is Gaussian with parameters $(\\mu(X),\\sigma(X))$ determined by Neural Networks\n",
    "\n",
    "This can be calculated analytically:\n",
    "\\begin{align*}\n",
    "-\\mathcal{KL}(q_{\\phi}(Z\\mid X)\\parallel p_{\\theta}(Z\\mid X))\n",
    "=\\frac{1}{2} \\sum_{i=1}^N \\sum_{s=1}^D\n",
    "\\left(1+\\log(\\sigma_s^{{(i)}^2})\n",
    "-\\mu_s^{{(i)}^2}\n",
    "-\\sigma_s^{{(i)}^2}\\right)\n",
    "\\end{align*}\n",
    "\n",
    "\n",
    "\n",
    "### Reconstruction (Croos entropy & L2 Loss) \n",
    "$$\\mathbb{E}_{q_{\\phi}(Z\\mid X)}\\log{p_{\\theta}(X \\mid Z)}$$\n",
    "##### Bernoulli $X\\sim Ber(Z)$ (cross entropy) \n",
    "\\begin{equation}  \n",
    "\\left\\{  \n",
    "     \\begin{array}{lr}  \n",
    "     p(X=1\\mid Z) = DecoderNeuralNets(Z) = \\hat{X}\\\\\n",
    "     p(X=0\\mid Z) = 1- DecoderNeuralNets(Z)= 1-\\hat{X}\n",
    "     \\end{array}  \n",
    "\\right.  \n",
    "\\end{equation}  \n",
    "\n",
    "$$p(X\\mid Z) = \\hat{X}^X \\cdot (1-\\hat{X})^{1-X}$$\n",
    "$$\\log p(X\\mid Z) = X \\cdot log(\\hat{X}) + (1-X) \\log(1-\\hat{X})=-H(X,\\hat{X})$$\n",
    "\n",
    "$$max \\; -H(X,\\hat{X}) = min \\; H(X,\\hat{X})$$\n",
    "$H$ refers to the [cross entropy](https://en.wikipedia.org/wiki/Cross_entropy) in information theory.\n",
    "\n",
    "##### Continuous $X\\sim \\mathcal{N}(Z)$ (L2 Loss) \n",
    "$$p(X\\mid Z)=\\frac{1}{\\sqrt{2\\pi}\\sigma} \\cdot e^{-\\frac{(X-\\mu)^2}{2\\sigma^2}}$$\n",
    "$$\\log p(X\\mid Z) = -\\frac{\\log(2\\pi)\\sigma^2}{2} -\\frac{(X-\\mu)^2}{2\\sigma^2}$$\n",
    "$$\\max -\\frac{(X-\\mu)^2}{2\\sigma^2} = \\min \\; (X-\\mu)^2$$\n",
    "\n",
    "## VAE Recap: Structure\n",
    "\n",
    "<figure>\n",
    "  <img src=\"fig/vaestr1.png\" alt=\"\" width=\"700\">\n",
    "</figure>\n",
    "\n",
    "More specifically, if you build a VAE based on MLP (multi-layer perceptron), the structure looks like\n",
    "<figure>\n",
    "  <img src=\"fig/vaestr2.png\" alt=\"\" width=\"700\">\n",
    "</figure>"
   ]
  },
  {
   "cell_type": "markdown",
   "metadata": {},
   "source": [
    "## VAE in TensorFlow"
   ]
  },
  {
   "cell_type": "code",
   "execution_count": 5,
   "metadata": {
    "collapsed": true
   },
   "outputs": [],
   "source": [
    "#%% vanillia VAE \n",
    "\n",
    "class VAE(object):\n",
    "    def __init__(self, x, problem, input_dim, hidden_encoder_dim, hidden_decoder_dim, latent_dim, \n",
    "                 keep_prob, BN=True, training = None, epsl = 1e-3, lam = 0):\n",
    "\n",
    "        self.l2_loss = tf.constant(0.0)\n",
    "\n",
    "        W_encoder_input_hidden = weight_variable([input_dim,hidden_encoder_dim])\n",
    "        b_encoder_input_hidden = bias_variable([hidden_encoder_dim])\n",
    "        self.l2_loss += tf.nn.l2_loss(W_encoder_input_hidden)\n",
    "        \n",
    "        # Hidden layer encoder\n",
    "        hidden_encoder = tf.nn.relu(tf.matmul(x, W_encoder_input_hidden) + b_encoder_input_hidden)\n",
    "        \n",
    "        W_encoder_hidden_mu = weight_variable([hidden_encoder_dim,latent_dim])\n",
    "        b_encoder_hidden_mu = bias_variable([latent_dim])\n",
    "        self.l2_loss += tf.nn.l2_loss(W_encoder_hidden_mu)\n",
    "        \n",
    "        # Mu encoder\n",
    "        mu_encoder = tf.matmul(hidden_encoder, W_encoder_hidden_mu) + b_encoder_hidden_mu\n",
    "        \n",
    "        W_encoder_hidden_logvar = weight_variable([hidden_encoder_dim,latent_dim])\n",
    "        b_encoder_hidden_logvar = bias_variable([latent_dim])\n",
    "        self.l2_loss += tf.nn.l2_loss(W_encoder_hidden_logvar)\n",
    "        \n",
    "        # Sigma encoder\n",
    "        logvar_encoder = tf.matmul(hidden_encoder, W_encoder_hidden_logvar) + b_encoder_hidden_logvar\n",
    "        \n",
    "        # Sample latent variable\n",
    "        epsilon = tf.random_normal(tf.shape(logvar_encoder), name='epsilon')\n",
    "        \n",
    "        std_encoder = tf.exp(0.5 * logvar_encoder)\n",
    "        self.z = mu_encoder + tf.multiply(std_encoder, epsilon)\n",
    "        \n",
    "        W_decoder_z_hidden = weight_variable([latent_dim,hidden_decoder_dim])\n",
    "        b_decoder_z_hidden = bias_variable([hidden_decoder_dim])\n",
    "        self.l2_loss += tf.nn.l2_loss(W_decoder_z_hidden)\n",
    "        \n",
    "        # Hidden layer decoder\n",
    "        hidden_decoder = tf.nn.relu(tf.matmul(self.z, W_decoder_z_hidden) + b_decoder_z_hidden)\n",
    "\n",
    "        W_decoder_hidden_reconstruction = weight_variable([hidden_decoder_dim, input_dim])\n",
    "        b_decoder_hidden_reconstruction = bias_variable([input_dim])\n",
    "        self.l2_loss += tf.nn.l2_loss(W_decoder_hidden_reconstruction)\n",
    "        \n",
    "        KLD = -0.5 * tf.reduce_sum(1 + logvar_encoder - tf.pow(mu_encoder, 2)\\\n",
    "                                   - tf.exp(logvar_encoder), reduction_indices=1)\n",
    "        \n",
    "        self.pred = tf.matmul(hidden_decoder, W_decoder_hidden_reconstruction) \\\n",
    "                    + b_decoder_hidden_reconstruction\n",
    "        if problem == \"classification\":\n",
    "            BCE = tf.reduce_sum(tf.nn.sigmoid_cross_entropy_with_logits(\n",
    "                    logits=self.pred, labels=self.x_weighted), reduction_indices=1)\n",
    "        if problem == \"regression\":\n",
    "            BCE = tf.sqrt(tf.nn.l2_loss(self.pred-x)*2)\n",
    "        \n",
    "        self.loss = tf.reduce_mean(BCE + KLD)\n",
    "        \n",
    "        self.regularized_loss = self.loss + lam * self.l2_loss"
   ]
  },
  {
   "cell_type": "markdown",
   "metadata": {},
   "source": [
    "## VAE in Keras\n",
    "\n",
    "### Load MNIST Data"
   ]
  },
  {
   "cell_type": "code",
   "execution_count": 1,
   "metadata": {
    "scrolled": true
   },
   "outputs": [
    {
     "name": "stderr",
     "output_type": "stream",
     "text": [
      "Using TensorFlow backend.\n"
     ]
    },
    {
     "name": "stdout",
     "output_type": "stream",
     "text": [
      "Extracting MNIST\\train-images-idx3-ubyte.gz\n",
      "Extracting MNIST\\train-labels-idx1-ubyte.gz\n",
      "Extracting MNIST\\t10k-images-idx3-ubyte.gz\n",
      "Extracting MNIST\\t10k-labels-idx1-ubyte.gz\n"
     ]
    }
   ],
   "source": [
    "'''\n",
    "Description: Keras implementation of a variational autoencoder\n",
    "\n",
    "    1. This VAE is built with MLP (multi-layer perceptron) and tested on MNIST.\n",
    "    1. You can save trained models.\n",
    "    2. You can restore trained models to use directly, or train additional epochs.\n",
    "    3. Visualization includes: latent space, 2D manifold, imputation.\n",
    "'''\n",
    "import os\n",
    "import numpy as np\n",
    "import matplotlib.pyplot as plt\n",
    "from scipy.stats import norm\n",
    "%matplotlib inline\n",
    "\n",
    "from keras.layers import Input, Dense, Lambda\n",
    "from keras.models import Model, load_model\n",
    "from keras.regularizers import l2\n",
    "from keras import backend as K\n",
    "from keras import objectives\n",
    "import tensorflow as tf\n",
    "\n",
    "#%% Load data \n",
    "from tensorflow.examples.tutorials.mnist import input_data\n",
    "#or manually download from: http://yann.lecun.com/exdb/mnist/\n",
    "mnist = input_data.read_data_sets('MNIST', one_hot=False)\n",
    "x_train = mnist.train.images\n",
    "x_test  = mnist.test.images\n",
    "y_test  = mnist.test.labels"
   ]
  },
  {
   "cell_type": "markdown",
   "metadata": {},
   "source": [
    "### Build VAE Structure"
   ]
  },
  {
   "cell_type": "code",
   "execution_count": 2,
   "metadata": {
    "collapsed": true
   },
   "outputs": [],
   "source": [
    "# Specify params\n",
    "np.random.seed(0)  #for reproducibility\n",
    "            \n",
    "dim_x       = 784\n",
    "dim_latent  = 2 \n",
    "dim_hidden  = 256\n",
    "batch_size  = 100 \n",
    "epochs      = 5\n",
    "decay       = 1e-4 # L2 regularization\n",
    "epsilon_std = 1.0\n",
    "use_loss    = 'xent' # 'mse' or 'xent' = - E_q(log(p)) = - \\sum_x q(x) * log(p(x))\n",
    "use_bias    = True\n",
    "\n",
    "## Encoder\n",
    "x = Input(batch_shape=(batch_size, dim_x))\n",
    "\n",
    "h_encoded = Dense(dim_hidden, \n",
    "                  kernel_regularizer=l2(decay), bias_regularizer=l2(decay), \n",
    "                  use_bias=use_bias, activation='tanh')(x)\n",
    "z_mean    = Dense(dim_latent, \n",
    "                  kernel_regularizer=l2(decay), bias_regularizer=l2(decay), \n",
    "                  use_bias=use_bias)(h_encoded)\n",
    "#why do we encode \"log_var\" instead of \"var\"?  <3*> variance is positive\n",
    "z_log_var = Dense(dim_latent, \n",
    "                  kernel_regularizer=l2(decay), bias_regularizer=l2(decay), \n",
    "                  use_bias=use_bias)(h_encoded)\n",
    "\n",
    "## Sampler\n",
    "def sampling(args):\n",
    "    z_mean, z_log_var = args\n",
    "    epsilon = K.random_normal_variable(shape=(z_mean.get_shape()), mean=0.,\n",
    "                                       scale=epsilon_std)\n",
    "    return z_mean + K.exp(z_log_var / 2) * epsilon\n",
    "\n",
    "z = Lambda(sampling, output_shape=(dim_latent,))([z_mean, z_log_var])\n",
    "\n",
    "## Decoder\n",
    "decoder_hidden = Dense(dim_hidden, \n",
    "                       kernel_regularizer=l2(decay), bias_regularizer=l2(decay), \n",
    "                       use_bias=use_bias, activation='tanh')\n",
    "decoder_output = Dense(dim_x, \n",
    "                       kernel_regularizer=l2(decay), bias_regularizer=l2(decay), \n",
    "                       use_bias=use_bias, activation='sigmoid')\n",
    "x_hat          = decoder_output(decoder_hidden(z))\n",
    "\n",
    "## Loss\n",
    "def loss(x, x_hat):\n",
    "    loss_kl   = - 0.5 * K.sum(1 + z_log_var - K.square(z_mean) - K.exp(z_log_var), axis=-1)\n",
    "    loss_xent = dim_x * objectives.binary_crossentropy(x, x_hat)\n",
    "    loss_mse  = dim_x * objectives.mse(x, x_hat) \n",
    "    if use_loss == 'xent':\n",
    "        return loss_kl + loss_xent\n",
    "    elif use_loss == 'mse':\n",
    "        return loss_kl + loss_mse\n",
    "    else:\n",
    "        raise Exception('Undefined Loss: %s'%(use_loss))"
   ]
  },
  {
   "cell_type": "markdown",
   "metadata": {},
   "source": [
    "### Define or Restore Models\n",
    "\n",
    "Reference of [save and restore in Keras](https://morvanzhou.github.io/tutorials/machine-learning/keras/3-1-save/)."
   ]
  },
  {
   "cell_type": "code",
   "execution_count": 3,
   "metadata": {},
   "outputs": [
    {
     "name": "stdout",
     "output_type": "stream",
     "text": [
      "Train on 55000 samples, validate on 10000 samples\n",
      "Epoch 1/5\n",
      "55000/55000 [==============================] - 11s - loss: 201.9542 - val_loss: 186.9852\n",
      "Epoch 2/5\n",
      "55000/55000 [==============================] - 16s - loss: 182.8704 - val_loss: 179.0592\n",
      "Epoch 3/5\n",
      "55000/55000 [==============================] - 17s - loss: 179.3053 - val_loss: 176.5910\n",
      "Epoch 4/5\n",
      "55000/55000 [==============================] - 16s - loss: 176.0410 - val_loss: 173.1587\n",
      "Epoch 5/5\n",
      "55000/55000 [==============================] - 16s - loss: 172.9785 - val_loss: 171.6866\n",
      "____________________________________________________________________________________________________\n",
      "Layer (type)                     Output Shape          Param #     Connected to                     \n",
      "====================================================================================================\n",
      "input_1 (InputLayer)             (100, 784)            0                                            \n",
      "____________________________________________________________________________________________________\n",
      "dense_1 (Dense)                  (100, 256)            200960                                       \n",
      "____________________________________________________________________________________________________\n",
      "dense_2 (Dense)                  (100, 2)              514                                          \n",
      "____________________________________________________________________________________________________\n",
      "dense_3 (Dense)                  (100, 2)              514                                          \n",
      "____________________________________________________________________________________________________\n",
      "lambda_1 (Lambda)                (100, 2)              0                                            \n",
      "____________________________________________________________________________________________________\n",
      "dense_4 (Dense)                  multiple              768                                          \n",
      "____________________________________________________________________________________________________\n",
      "dense_5 (Dense)                  multiple              201488                                       \n",
      "====================================================================================================\n",
      "Total params: 404,244.0\n",
      "Trainable params: 404,244.0\n",
      "Non-trainable params: 0.0\n",
      "____________________________________________________________________________________________________\n"
     ]
    }
   ],
   "source": [
    "# check if there exists previously trained models\n",
    "savepath = \"./save/\"\n",
    "if not os.path.exists(savepath): os.mkdir(savepath)\n",
    "if os.path.exists(savepath+\"vae.h5\"): ## Load trained models\n",
    "    vae       = load_model(savepath+\"vae.h5\", custom_objects = {'loss': loss, 'epsilon_std': epsilon_std})\n",
    "    encoder   = load_model(savepath+\"encoder.h5\")\n",
    "    generator = load_model(savepath+\"generator.h5\", custom_objects = {'epsilon_std': epsilon_std})\n",
    "    print(\"\\nModels trained for %d epochs successfully restored.\"%(np.load(savepath+\"epochs.npy\")))\n",
    "    \n",
    "else: ## Train a new model\n",
    "    vae = Model(x, x_hat)\n",
    "    vae.compile(optimizer='rmsprop', loss=loss)\n",
    "    ## train the VAE on MNIST digits\n",
    "    vae.fit(x_train, x_train,\n",
    "            shuffle=True,\n",
    "            epochs=epochs,\n",
    "            batch_size=batch_size,\n",
    "            validation_data=(x_test, x_test))    \n",
    "    vae.save(savepath+\"vae.h5\")\n",
    "    \n",
    "    ## build a model to project inputs on the latent space\n",
    "    encoder = Model(x, z_mean)\n",
    "    encoder.save(savepath+\"encoder.h5\")\n",
    "    \n",
    "    ## build a digit generator that can sample from the learned distribution\n",
    "    z_sampled = Input(shape=(dim_latent,))\n",
    "    x_decoded = decoder_output(decoder_hidden(z_sampled))\n",
    "    generator = Model(z_sampled, x_decoded)\n",
    "    generator.save(savepath+\"generator.h5\")\n",
    "    \n",
    "    ## document training info\n",
    "    np.save(savepath+\"epochs\", epochs)\n",
    "\n",
    "# you can summarize your model if necessary\n",
    "vae.summary()\n",
    "\n",
    "# Please kindly ignore the warning:\n",
    "#   UserWarning: No training configuration found in save file: \n",
    "#   the model was *not* compiled. Compile it manually."
   ]
  },
  {
   "cell_type": "code",
   "execution_count": 4,
   "metadata": {},
   "outputs": [],
   "source": [
    "vae       = load_model(savepath+\"vae.h5\", custom_objects = {'loss': loss, 'epsilon_std': epsilon_std})"
   ]
  },
  {
   "cell_type": "markdown",
   "metadata": {},
   "source": [
    "### Visualization: Latent Space"
   ]
  },
  {
   "cell_type": "code",
   "execution_count": 9,
   "metadata": {},
   "outputs": [
    {
     "ename": "NameError",
     "evalue": "name 'encoder' is not defined",
     "output_type": "error",
     "traceback": [
      "\u001b[1;31m---------------------------------------------------------------------------\u001b[0m",
      "\u001b[1;31mNameError\u001b[0m                                 Traceback (most recent call last)",
      "\u001b[1;32m<ipython-input-9-beffc0b26d7d>\u001b[0m in \u001b[0;36m<module>\u001b[1;34m()\u001b[0m\n\u001b[0;32m      1\u001b[0m \u001b[1;31m# display a 2D plot of the digit classes in the latent space\u001b[0m\u001b[1;33m\u001b[0m\u001b[1;33m\u001b[0m\u001b[0m\n\u001b[1;32m----> 2\u001b[1;33m \u001b[0mx_test_encoded\u001b[0m \u001b[1;33m=\u001b[0m \u001b[0mencoder\u001b[0m\u001b[1;33m.\u001b[0m\u001b[0mpredict\u001b[0m\u001b[1;33m(\u001b[0m\u001b[0mx_test\u001b[0m\u001b[1;33m,\u001b[0m \u001b[0mbatch_size\u001b[0m\u001b[1;33m=\u001b[0m\u001b[0mbatch_size\u001b[0m\u001b[1;33m)\u001b[0m\u001b[1;33m\u001b[0m\u001b[0m\n\u001b[0m\u001b[0;32m      3\u001b[0m \u001b[0mfig\u001b[0m \u001b[1;33m=\u001b[0m \u001b[0mplt\u001b[0m\u001b[1;33m.\u001b[0m\u001b[0mfigure\u001b[0m\u001b[1;33m(\u001b[0m\u001b[0mfigsize\u001b[0m\u001b[1;33m=\u001b[0m\u001b[1;33m(\u001b[0m\u001b[1;36m4\u001b[0m\u001b[1;33m,\u001b[0m \u001b[1;36m4\u001b[0m\u001b[1;33m)\u001b[0m\u001b[1;33m)\u001b[0m\u001b[1;33m\u001b[0m\u001b[0m\n\u001b[0;32m      4\u001b[0m \u001b[0mplt\u001b[0m\u001b[1;33m.\u001b[0m\u001b[0mscatter\u001b[0m\u001b[1;33m(\u001b[0m\u001b[0mx_test_encoded\u001b[0m\u001b[1;33m[\u001b[0m\u001b[1;33m:\u001b[0m\u001b[1;33m,\u001b[0m \u001b[1;36m0\u001b[0m\u001b[1;33m]\u001b[0m\u001b[1;33m,\u001b[0m \u001b[0mx_test_encoded\u001b[0m\u001b[1;33m[\u001b[0m\u001b[1;33m:\u001b[0m\u001b[1;33m,\u001b[0m \u001b[1;36m1\u001b[0m\u001b[1;33m]\u001b[0m\u001b[1;33m,\u001b[0m \u001b[0mc\u001b[0m\u001b[1;33m=\u001b[0m\u001b[0my_test\u001b[0m\u001b[1;33m)\u001b[0m\u001b[1;33m\u001b[0m\u001b[0m\n\u001b[0;32m      5\u001b[0m \u001b[0mplt\u001b[0m\u001b[1;33m.\u001b[0m\u001b[0mcolorbar\u001b[0m\u001b[1;33m(\u001b[0m\u001b[1;33m)\u001b[0m\u001b[1;33m\u001b[0m\u001b[0m\n",
      "\u001b[1;31mNameError\u001b[0m: name 'encoder' is not defined"
     ]
    }
   ],
   "source": [
    "# display a 2D plot of the digit classes in the latent space\n",
    "x_test_encoded = encoder.predict(x_test, batch_size=batch_size)\n",
    "fig = plt.figure(figsize=(4, 4))\n",
    "plt.scatter(x_test_encoded[:, 0], x_test_encoded[:, 1], c=y_test)\n",
    "plt.colorbar()\n",
    "plt.show()\n",
    "fig.savefig(savepath+\"z_{}.png\".format(use_loss))"
   ]
  },
  {
   "cell_type": "markdown",
   "metadata": {},
   "source": [
    "### Visualization: 2D manifold of the digits"
   ]
  },
  {
   "cell_type": "code",
   "execution_count": 10,
   "metadata": {},
   "outputs": [
    {
     "ename": "NameError",
     "evalue": "name 'generator' is not defined",
     "output_type": "error",
     "traceback": [
      "\u001b[1;31m---------------------------------------------------------------------------\u001b[0m",
      "\u001b[1;31mNameError\u001b[0m                                 Traceback (most recent call last)",
      "\u001b[1;32m<ipython-input-10-5cd788b3c0fb>\u001b[0m in \u001b[0;36m<module>\u001b[1;34m()\u001b[0m\n\u001b[0;32m     11\u001b[0m     \u001b[1;32mfor\u001b[0m \u001b[0mj\u001b[0m\u001b[1;33m,\u001b[0m \u001b[0mxi\u001b[0m \u001b[1;32min\u001b[0m \u001b[0menumerate\u001b[0m\u001b[1;33m(\u001b[0m\u001b[0mgrid_y\u001b[0m\u001b[1;33m)\u001b[0m\u001b[1;33m:\u001b[0m\u001b[1;33m\u001b[0m\u001b[0m\n\u001b[0;32m     12\u001b[0m         \u001b[0mz_sample\u001b[0m \u001b[1;33m=\u001b[0m \u001b[0mnp\u001b[0m\u001b[1;33m.\u001b[0m\u001b[0marray\u001b[0m\u001b[1;33m(\u001b[0m\u001b[1;33m[\u001b[0m\u001b[1;33m[\u001b[0m\u001b[0mxi\u001b[0m\u001b[1;33m,\u001b[0m \u001b[0myi\u001b[0m\u001b[1;33m]\u001b[0m\u001b[1;33m]\u001b[0m\u001b[1;33m)\u001b[0m\u001b[1;33m\u001b[0m\u001b[0m\n\u001b[1;32m---> 13\u001b[1;33m         \u001b[0mx_decoded\u001b[0m \u001b[1;33m=\u001b[0m \u001b[0mgenerator\u001b[0m\u001b[1;33m.\u001b[0m\u001b[0mpredict\u001b[0m\u001b[1;33m(\u001b[0m\u001b[0mz_sample\u001b[0m\u001b[1;33m)\u001b[0m\u001b[1;33m\u001b[0m\u001b[0m\n\u001b[0m\u001b[0;32m     14\u001b[0m         \u001b[0mdigit\u001b[0m \u001b[1;33m=\u001b[0m \u001b[0mx_decoded\u001b[0m\u001b[1;33m[\u001b[0m\u001b[1;36m0\u001b[0m\u001b[1;33m]\u001b[0m\u001b[1;33m.\u001b[0m\u001b[0mreshape\u001b[0m\u001b[1;33m(\u001b[0m\u001b[0mm\u001b[0m\u001b[1;33m,\u001b[0m \u001b[0mm\u001b[0m\u001b[1;33m)\u001b[0m\u001b[1;33m\u001b[0m\u001b[0m\n\u001b[0;32m     15\u001b[0m         figure[i * m: (i + 1) * m,\n",
      "\u001b[1;31mNameError\u001b[0m: name 'generator' is not defined"
     ]
    }
   ],
   "source": [
    "n = 15  # figure with 15x15 digits\n",
    "m = 28\n",
    "figure = np.zeros((m * n, m * n))\n",
    "# linearly spaced coordinates on the unit square were transformed through \n",
    "# the inverse CDF (ppf) of the Gaussian to produce values of the latent \n",
    "# variables z, since the prior of the latent space is Gaussian\n",
    "grid_x = norm.ppf(np.linspace(0.05, 0.95, n))\n",
    "grid_y = norm.ppf(np.linspace(0.05, 0.95, n))\n",
    "\n",
    "for i, yi in enumerate(grid_x):\n",
    "    for j, xi in enumerate(grid_y):\n",
    "        z_sample = np.array([[xi, yi]])\n",
    "        x_decoded = generator.predict(z_sample)\n",
    "        digit = x_decoded[0].reshape(m, m)\n",
    "        figure[i * m: (i + 1) * m,\n",
    "               j * m: (j + 1) * m] = digit\n",
    "\n",
    "fig = plt.figure(figsize=(6, 6))\n",
    "plt.imshow(figure, cmap='Greys_r')\n",
    "plt.show()\n",
    "fig.savefig(savepath+\"x_{}.png\".format(use_loss))"
   ]
  },
  {
   "cell_type": "markdown",
   "metadata": {},
   "source": [
    "### Visualization: Data Imputation"
   ]
  },
  {
   "cell_type": "code",
   "execution_count": 27,
   "metadata": {},
   "outputs": [
    {
     "data": {
      "image/png": "[encoded data removed]",
      "text/plain": [
       "<matplotlib.figure.Figure at 0x7f02a4b01f60>"
      ]
     },
     "metadata": {},
     "output_type": "display_data"
    }
   ],
   "source": [
    "figure = np.zeros((m * 3, m * n))\n",
    "x_origin = x_test[:batch_size,:]\n",
    "x_corrupted = np.copy(x_origin)\n",
    "x_corrupted[:, 300:400] = 0\n",
    "x_reconstructed = vae.predict(x_corrupted, batch_size=batch_size).reshape((-1, m, m))\n",
    "x_origin = x_origin.reshape((-1, m, m))\n",
    "x_corrupted = x_corrupted.reshape((-1, m, m))\n",
    "for i in range(n):\n",
    "    figure[:m,      i*m:(i+1)*m] = x_origin[i]\n",
    "    figure[ m:2*m,  i*m:(i+1)*m] = x_corrupted[i]\n",
    "    figure[   2*m:, i*m:(i+1)*m] = x_reconstructed[i]\n",
    "\n",
    "fig = plt.figure(figsize=(6, 3))\n",
    "plt.imshow(figure, cmap='Greys_r')\n",
    "plt.title('Image Imputation')\n",
    "plt.xticks([])\n",
    "plt.yticks(m*np.array([.5,1.5,2.5]),['Original','Corrupt','Re-con'])\n",
    "fig.savefig(savepath+\"i_{}.png\".format(use_loss))"
   ]
  },
  {
   "cell_type": "markdown",
   "metadata": {},
   "source": [
    "## Reparameterization Trick\n",
    "\n",
    "<figure>\n",
    "  <img src=\"fig/reparam-pic.png\" alt=\"\" width=\"600\">\n",
    "</figure>\n",
    "\n",
    "*Further readings:*\n",
    "\n",
    "*[1] [A very simple implementation of  Reparameterisation Tricks](http://nbviewer.jupyter.org/github/gokererdogan/Notebooks/blob/master/Reparameterization%20Trick.ipynb)*\n",
    "\n",
    "*[2] [Machine Learning Trick of the Day (4): Reparameterisation Tricks](http://blog.shakirm.com/2015/10/machine-learning-trick-of-the-day-4-reparameterisation-tricks/)*\n",
    "\n",
    "*[3] [Machine Learning Trick of the Day (5): Log Derivative Trick](http://blog.shakirm.com/2015/11/machine-learning-trick-of-the-day-5-log-derivative-trick/)*\n",
    "\n",
    "*[4] [Machine Learning: A Probabilistic Perspective.](http://dsd.future-lab.cn/members/2015nlp/Machine_Learning.pdf) Ch. 21*\n"
   ]
  }
 ],
 "metadata": {
  "kernelspec": {
   "display_name": "Python 3",
   "language": "python",
   "name": "python3"
  },
  "language_info": {
   "codemirror_mode": {
    "name": "ipython",
    "version": 3
   },
   "file_extension": ".py",
   "mimetype": "text/x-python",
   "name": "python",
   "nbconvert_exporter": "python",
   "pygments_lexer": "ipython3",
   "version": "3.6.1"
  }
 },
 "nbformat": 4,
 "nbformat_minor": 2
}
